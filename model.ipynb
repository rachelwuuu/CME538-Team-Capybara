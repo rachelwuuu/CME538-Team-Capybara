{
  "nbformat": 4,
  "nbformat_minor": 0,
  "metadata": {
    "colab": {
      "provenance": []
    },
    "kernelspec": {
      "name": "python3",
      "display_name": "Python 3"
    },
    "language_info": {
      "name": "python"
    }
  },
  "cells": [
    {
      "cell_type": "code",
      "execution_count": null,
      "metadata": {
        "id": "UkDRrcY361Qt"
      },
      "outputs": [],
      "source": [
        "import pandas as pd\n",
        "df = pd.read_csv(\"/content/all_datasets_2-1.csv\")"
      ]
    },
    {
      "cell_type": "code",
      "source": [
        "print(df)"
      ],
      "metadata": {
        "colab": {
          "base_uri": "https://localhost:8080/"
        },
        "id": "cb3TOgMKB7yQ",
        "outputId": "73c25b86-1204-4991-9dd1-b159c121456e"
      },
      "execution_count": null,
      "outputs": [
        {
          "output_type": "stream",
          "name": "stdout",
          "text": [
            "      Unnamed: 0         City Postal_Code              PrimPropTypCalc  \\\n",
            "0              0      Toronto         M1N          Multifamily Housing   \n",
            "1              1  Scarborough         M1L          Multifamily Housing   \n",
            "2              2      Toronto         M1L          Multifamily Housing   \n",
            "3              3      Toronto         M1L          Multifamily Housing   \n",
            "4              4      Toronto         M1L          Multifamily Housing   \n",
            "...          ...          ...         ...                          ...   \n",
            "1406        1406      Toronto         M2N                        Other   \n",
            "1407        1407      Toronto         M4V  Other - Lodging/Residential   \n",
            "1408        1408      Toronto         M5V          Multifamily Housing   \n",
            "1409        1409      Toronto         M5J          Multifamily Housing   \n",
            "1410        1410      Toronto         M6K                       Office   \n",
            "\n",
            "          WN_Sit_Elc_Int1     WN_Sit_Gas_Int1  GHG_Emiss_Int1 Ener_Star_Score  \\\n",
            "0        0.36812575981152  0.1135377343418688        9.687520              74   \n",
            "1        0.40687583979168  0.3406132030256064       18.298649              39   \n",
            "2       0.259625535867072  0.6812264060512128       33.368124              46   \n",
            "3     0.38750079980159996  0.3406132030256064       17.222258              53   \n",
            "4     0.38362579180358397  0.3406132030256064       19.375040              23   \n",
            "...                   ...                 ...             ...             ...   \n",
            "1406    0.352625727819456  0.3406132030256064       18.298649   Not Available   \n",
            "1407      0.2906255998512  0.4541509373674752       22.604213               0   \n",
            "1408  0.36037574381548804  0.4541509373674752       24.756996              51   \n",
            "1409    0.546376127720256  0.6812264060512128       34.444516               6   \n",
            "1410    0.259625535867072  0.2270754686837376       12.916693              99   \n",
            "\n",
            "     three_letter_pc_x  Average_Age_int Average_Age three_letter_pc_y  \\\n",
            "0                  M1N         3.965507   1946-1960               M1N   \n",
            "1                  M1L         4.521639   1961-1975               M1L   \n",
            "2                  M1L         4.521639   1961-1975               M1L   \n",
            "3                  M1L         4.521639   1961-1975               M1L   \n",
            "4                  M1L         4.521639   1961-1975               M1L   \n",
            "...                ...              ...         ...               ...   \n",
            "1406               M2N         4.605837   1961-1975               M2N   \n",
            "1407               M4V         2.756751   1931-1945               M4V   \n",
            "1408               M5V         2.839288   1931-1945               M5V   \n",
            "1409               M5J         5.463483   1961-1975               M5J   \n",
            "1410               M6K         2.265291   1916-1930               M6K   \n",
            "\n",
            "      Average_Household_Income Abbreviated_Postal_code  \\\n",
            "0                131075.252417                     M1N   \n",
            "1                 97329.028602                     M1L   \n",
            "2                 97329.028602                     M1L   \n",
            "3                 97329.028602                     M1L   \n",
            "4                 97329.028602                     M1L   \n",
            "...                        ...                     ...   \n",
            "1406             128963.829629                     M2N   \n",
            "1407             273265.761438                     M4V   \n",
            "1408             118589.746824                     M5V   \n",
            "1409             116013.404725                     M5J   \n",
            "1410              98686.411526                     M6K   \n",
            "\n",
            "      Annual_electricity_generation_k  Annual_ghg_reduction_kg  Roof_size  \\\n",
            "0                          51147495.0                3580401.0   804935.0   \n",
            "1                         101061619.0                7074310.0  1103429.0   \n",
            "2                         101061619.0                7074310.0  1103429.0   \n",
            "3                         101061619.0                7074310.0  1103429.0   \n",
            "4                         101061619.0                7074310.0  1103429.0   \n",
            "...                               ...                      ...        ...   \n",
            "1406                       97879155.0                6851531.0  1390521.0   \n",
            "1407                       24774926.0                1734245.0   428424.0   \n",
            "1408                       18855674.0                1319890.0   278863.0   \n",
            "1409                        5807369.0                 406513.0   132703.0   \n",
            "1410                       54783619.0                3834863.0   643182.0   \n",
            "\n",
            "      Annual_electricity_generation_kWh/m^2  Annual_energy_generation_GJ/m^2  \\\n",
            "0                                 63.542392                         0.228753   \n",
            "1                                 91.588692                         0.329719   \n",
            "2                                 91.588692                         0.329719   \n",
            "3                                 91.588692                         0.329719   \n",
            "4                                 91.588692                         0.329719   \n",
            "...                                     ...                              ...   \n",
            "1406                              70.390275                         0.253405   \n",
            "1407                              57.828054                         0.208181   \n",
            "1408                              67.616263                         0.243419   \n",
            "1409                              43.762153                         0.157544   \n",
            "1410                              85.175921                         0.306633   \n",
            "\n",
            "      Annual_ghg_reduction_kg/m^2  \n",
            "0                        4.448062  \n",
            "1                        6.411205  \n",
            "2                        6.411205  \n",
            "3                        6.411205  \n",
            "4                        6.411205  \n",
            "...                           ...  \n",
            "1406                     4.927312  \n",
            "1407                     4.047964  \n",
            "1408                     4.733113  \n",
            "1409                     3.063329  \n",
            "1410                     5.962329  \n",
            "\n",
            "[1411 rows x 20 columns]\n"
          ]
        }
      ]
    },
    {
      "cell_type": "code",
      "source": [
        "#Get some features\n",
        "from sklearn.model_selection import train_test_split\n",
        "from sklearn.metrics import f1_score\n",
        "def feature_selection(data):\n",
        "    feature_selected = ['WN_Sit_Gas_Int1']\n",
        "    data_new = data[feature_selected]\n",
        "    #data_new = pd.get_dummies(data_new, columns = ['Abbreviated_Postal_code', 'PrimPropTypCalc'])\n",
        "\n",
        "    return data_new\n",
        "\n",
        "print(type(df[\"GHG_Emiss_Int1\"]))\n",
        "df[\"GHG_Emiss_Int1\"] = df[\"GHG_Emiss_Int1\"].astype(int)\n",
        "df = df[df[\"City\"]== \"Toronto\"]\n",
        "df= df[df[\"WN_Sit_Gas_Int1\"]!= \"Not Available\"]\n",
        "df= df[df[\"GHG_Emiss_Int1\"]!= \"Not Available\"]\n",
        "df= df[df[\"GHG_Emiss_Int1\"]<600]\n",
        "df=df.dropna()\n",
        "X = feature_selection(df)\n",
        "\n",
        "y = df[\"GHG_Emiss_Int1\"]\n",
        "\n",
        "X_train, X_val_test, y_train, y_val_test = train_test_split(X, y, train_size=0.8, random_state=42)\n",
        "X_val, X_test, y_val, y_test = train_test_split(X_val_test, y_val_test, test_size=0.5, random_state=42)"
      ],
      "metadata": {
        "id": "ffyAeFOyCD9G",
        "colab": {
          "base_uri": "https://localhost:8080/"
        },
        "outputId": "cd658819-8b35-44a1-c07d-349304981207"
      },
      "execution_count": null,
      "outputs": [
        {
          "output_type": "stream",
          "name": "stdout",
          "text": [
            "<class 'pandas.core.series.Series'>\n"
          ]
        }
      ]
    },
    {
      "cell_type": "code",
      "source": [
        "from sklearn.ensemble import RandomForestClassifier\n",
        "model = RandomForestClassifier(max_features='sqrt', oob_score=True)"
      ],
      "metadata": {
        "id": "JGL8ergfDYnM"
      },
      "execution_count": null,
      "outputs": []
    },
    {
      "cell_type": "code",
      "source": [
        "model.fit(X_train, y_train)"
      ],
      "metadata": {
        "colab": {
          "base_uri": "https://localhost:8080/",
          "height": 75
        },
        "id": "l54kywJ7Dbgy",
        "outputId": "fd26e49a-114e-4cbb-f5fe-928379fcf5b2"
      },
      "execution_count": null,
      "outputs": [
        {
          "output_type": "execute_result",
          "data": {
            "text/plain": [
              "RandomForestClassifier(oob_score=True)"
            ],
            "text/html": [
              "<style>#sk-container-id-4 {color: black;background-color: white;}#sk-container-id-4 pre{padding: 0;}#sk-container-id-4 div.sk-toggleable {background-color: white;}#sk-container-id-4 label.sk-toggleable__label {cursor: pointer;display: block;width: 100%;margin-bottom: 0;padding: 0.3em;box-sizing: border-box;text-align: center;}#sk-container-id-4 label.sk-toggleable__label-arrow:before {content: \"▸\";float: left;margin-right: 0.25em;color: #696969;}#sk-container-id-4 label.sk-toggleable__label-arrow:hover:before {color: black;}#sk-container-id-4 div.sk-estimator:hover label.sk-toggleable__label-arrow:before {color: black;}#sk-container-id-4 div.sk-toggleable__content {max-height: 0;max-width: 0;overflow: hidden;text-align: left;background-color: #f0f8ff;}#sk-container-id-4 div.sk-toggleable__content pre {margin: 0.2em;color: black;border-radius: 0.25em;background-color: #f0f8ff;}#sk-container-id-4 input.sk-toggleable__control:checked~div.sk-toggleable__content {max-height: 200px;max-width: 100%;overflow: auto;}#sk-container-id-4 input.sk-toggleable__control:checked~label.sk-toggleable__label-arrow:before {content: \"▾\";}#sk-container-id-4 div.sk-estimator input.sk-toggleable__control:checked~label.sk-toggleable__label {background-color: #d4ebff;}#sk-container-id-4 div.sk-label input.sk-toggleable__control:checked~label.sk-toggleable__label {background-color: #d4ebff;}#sk-container-id-4 input.sk-hidden--visually {border: 0;clip: rect(1px 1px 1px 1px);clip: rect(1px, 1px, 1px, 1px);height: 1px;margin: -1px;overflow: hidden;padding: 0;position: absolute;width: 1px;}#sk-container-id-4 div.sk-estimator {font-family: monospace;background-color: #f0f8ff;border: 1px dotted black;border-radius: 0.25em;box-sizing: border-box;margin-bottom: 0.5em;}#sk-container-id-4 div.sk-estimator:hover {background-color: #d4ebff;}#sk-container-id-4 div.sk-parallel-item::after {content: \"\";width: 100%;border-bottom: 1px solid gray;flex-grow: 1;}#sk-container-id-4 div.sk-label:hover label.sk-toggleable__label {background-color: #d4ebff;}#sk-container-id-4 div.sk-serial::before {content: \"\";position: absolute;border-left: 1px solid gray;box-sizing: border-box;top: 0;bottom: 0;left: 50%;z-index: 0;}#sk-container-id-4 div.sk-serial {display: flex;flex-direction: column;align-items: center;background-color: white;padding-right: 0.2em;padding-left: 0.2em;position: relative;}#sk-container-id-4 div.sk-item {position: relative;z-index: 1;}#sk-container-id-4 div.sk-parallel {display: flex;align-items: stretch;justify-content: center;background-color: white;position: relative;}#sk-container-id-4 div.sk-item::before, #sk-container-id-4 div.sk-parallel-item::before {content: \"\";position: absolute;border-left: 1px solid gray;box-sizing: border-box;top: 0;bottom: 0;left: 50%;z-index: -1;}#sk-container-id-4 div.sk-parallel-item {display: flex;flex-direction: column;z-index: 1;position: relative;background-color: white;}#sk-container-id-4 div.sk-parallel-item:first-child::after {align-self: flex-end;width: 50%;}#sk-container-id-4 div.sk-parallel-item:last-child::after {align-self: flex-start;width: 50%;}#sk-container-id-4 div.sk-parallel-item:only-child::after {width: 0;}#sk-container-id-4 div.sk-dashed-wrapped {border: 1px dashed gray;margin: 0 0.4em 0.5em 0.4em;box-sizing: border-box;padding-bottom: 0.4em;background-color: white;}#sk-container-id-4 div.sk-label label {font-family: monospace;font-weight: bold;display: inline-block;line-height: 1.2em;}#sk-container-id-4 div.sk-label-container {text-align: center;}#sk-container-id-4 div.sk-container {/* jupyter's `normalize.less` sets `[hidden] { display: none; }` but bootstrap.min.css set `[hidden] { display: none !important; }` so we also need the `!important` here to be able to override the default hidden behavior on the sphinx rendered scikit-learn.org. See: https://github.com/scikit-learn/scikit-learn/issues/21755 */display: inline-block !important;position: relative;}#sk-container-id-4 div.sk-text-repr-fallback {display: none;}</style><div id=\"sk-container-id-4\" class=\"sk-top-container\"><div class=\"sk-text-repr-fallback\"><pre>RandomForestClassifier(oob_score=True)</pre><b>In a Jupyter environment, please rerun this cell to show the HTML representation or trust the notebook. <br />On GitHub, the HTML representation is unable to render, please try loading this page with nbviewer.org.</b></div><div class=\"sk-container\" hidden><div class=\"sk-item\"><div class=\"sk-estimator sk-toggleable\"><input class=\"sk-toggleable__control sk-hidden--visually\" id=\"sk-estimator-id-4\" type=\"checkbox\" checked><label for=\"sk-estimator-id-4\" class=\"sk-toggleable__label sk-toggleable__label-arrow\">RandomForestClassifier</label><div class=\"sk-toggleable__content\"><pre>RandomForestClassifier(oob_score=True)</pre></div></div></div></div></div>"
            ]
          },
          "metadata": {},
          "execution_count": 31
        }
      ]
    },
    {
      "cell_type": "code",
      "source": [
        "y_pred_val = model.predict(X_val)"
      ],
      "metadata": {
        "id": "ToSQlSBUD7YH"
      },
      "execution_count": null,
      "outputs": []
    },
    {
      "cell_type": "code",
      "source": [
        "print(\"Validation F1 score:\"\n",
        "+str(f1_score(y_val, y_pred_val, average=\"micro\")))\n"
      ],
      "metadata": {
        "colab": {
          "base_uri": "https://localhost:8080/"
        },
        "id": "KoQG_YC3D86Y",
        "outputId": "c57480c6-e01d-4f90-f49d-929ecbeb8645"
      },
      "execution_count": null,
      "outputs": [
        {
          "output_type": "stream",
          "name": "stdout",
          "text": [
            "Validation F1 score:0.14893617021276595\n"
          ]
        }
      ]
    },
    {
      "cell_type": "code",
      "source": [],
      "metadata": {
        "id": "SkGnripOLmZm"
      },
      "execution_count": null,
      "outputs": []
    },
    {
      "cell_type": "code",
      "source": [
        "y_pred_test = model.predict(X_test)"
      ],
      "metadata": {
        "id": "m7vv76a6E1wo"
      },
      "execution_count": null,
      "outputs": []
    },
    {
      "cell_type": "code",
      "source": [
        "print(\"Test F1 score:\"\n",
        "+str(f1_score(y_test, y_pred_test, average=\"micro\")))"
      ],
      "metadata": {
        "colab": {
          "base_uri": "https://localhost:8080/"
        },
        "id": "gFLsCxkwGH3X",
        "outputId": "3a24140d-21c7-4f7a-826d-cd116138bb85"
      },
      "execution_count": null,
      "outputs": [
        {
          "output_type": "stream",
          "name": "stdout",
          "text": [
            "Test F1 score:0.776595744680851\n"
          ]
        }
      ]
    }
  ]
}