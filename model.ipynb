{
 "cells": [
  {
   "cell_type": "code",
   "execution_count": 35,
   "metadata": {
    "executionInfo": {
     "elapsed": 320,
     "status": "ok",
     "timestamp": 1701244938045,
     "user": {
      "displayName": "Rachel Wu",
      "userId": "14056948256822092543"
     },
     "user_tz": 300
    },
    "id": "UkDRrcY361Qt"
   },
   "outputs": [],
   "source": [
    "import pandas as pd\n",
    "df = pd.read_csv(\"/content/all_datasets.csv\")"
   ]
  },
  {
   "cell_type": "code",
   "execution_count": 36,
   "metadata": {
    "colab": {
     "base_uri": "https://localhost:8080/"
    },
    "executionInfo": {
     "elapsed": 12,
     "status": "ok",
     "timestamp": 1701244938046,
     "user": {
      "displayName": "Rachel Wu",
      "userId": "14056948256822092543"
     },
     "user_tz": 300
    },
    "id": "cb3TOgMKB7yQ",
    "outputId": "de02afbf-f8ca-49e6-e26a-cf02cf037748"
   },
   "outputs": [
    {
     "name": "stdout",
     "output_type": "stream",
     "text": [
      "      Unnamed: 0         City Postal_Code              PrimPropTypCalc  \\\n",
      "0              0      Toronto         M1N          Multifamily Housing   \n",
      "1              1  Scarborough         M1L          Multifamily Housing   \n",
      "2              2      Toronto         M1L          Multifamily Housing   \n",
      "3              3      Toronto         M1L          Multifamily Housing   \n",
      "4              4      Toronto         M1L          Multifamily Housing   \n",
      "...          ...          ...         ...                          ...   \n",
      "1406        1406      Toronto         M2N                        Other   \n",
      "1407        1407      Toronto         M4V  Other - Lodging/Residential   \n",
      "1408        1408      Toronto         M5V          Multifamily Housing   \n",
      "1409        1409      Toronto         M5J          Multifamily Housing   \n",
      "1410        1410      Toronto         M6K                       Office   \n",
      "\n",
      "          WN_Sit_Elc_Int1     WN_Sit_Gas_Int1  GHG_Emiss_Int1 Ener_Star_Score  \\\n",
      "0        0.36812575981152  0.1135377343418688        9.687520              74   \n",
      "1        0.40687583979168  0.3406132030256064       18.298649              39   \n",
      "2       0.259625535867072  0.6812264060512128       33.368124              46   \n",
      "3     0.38750079980159996  0.3406132030256064       17.222258              53   \n",
      "4     0.38362579180358397  0.3406132030256064       19.375040              23   \n",
      "...                   ...                 ...             ...             ...   \n",
      "1406    0.352625727819456  0.3406132030256064       18.298649   Not Available   \n",
      "1407      0.2906255998512  0.4541509373674752       22.604213               0   \n",
      "1408  0.36037574381548804  0.4541509373674752       24.756996              51   \n",
      "1409    0.546376127720256  0.6812264060512128       34.444516               6   \n",
      "1410    0.259625535867072  0.2270754686837376       12.916693              99   \n",
      "\n",
      "     three_letter_pc_x  Average_Age_int Average_Age three_letter_pc_y  \\\n",
      "0                  M1N         3.965369   1946-1960               M1N   \n",
      "1                  M1L         4.521675   1961-1975               M1L   \n",
      "2                  M1L         4.521675   1961-1975               M1L   \n",
      "3                  M1L         4.521675   1961-1975               M1L   \n",
      "4                  M1L         4.521675   1961-1975               M1L   \n",
      "...                ...              ...         ...               ...   \n",
      "1406               M2N         4.605572   1961-1975               M2N   \n",
      "1407               M4V         2.757916   1931-1945               M4V   \n",
      "1408               M5V         2.836221   1931-1945               M5V   \n",
      "1409               M5J         5.463483   1961-1975               M5J   \n",
      "1410               M6K         2.271629   1916-1930               M6K   \n",
      "\n",
      "      Average_Household_Income Abbreviated_Postal_code  \\\n",
      "0                131060.567448                     M1N   \n",
      "1                 97332.149125                     M1L   \n",
      "2                 97332.149125                     M1L   \n",
      "3                 97332.149125                     M1L   \n",
      "4                 97332.149125                     M1L   \n",
      "...                        ...                     ...   \n",
      "1406             128957.209677                     M2N   \n",
      "1407             272825.920822                     M4V   \n",
      "1408             118570.052068                     M5V   \n",
      "1409             115955.810310                     M5J   \n",
      "1410              98953.626999                     M6K   \n",
      "\n",
      "      Annual_electricity_generation_k  Annual_ghg_reduction_kg  \n",
      "0                          50928045.0                3565042.0  \n",
      "1                          99216308.0                6945139.0  \n",
      "2                          99216308.0                6945139.0  \n",
      "3                          99216308.0                6945139.0  \n",
      "4                          99216308.0                6945139.0  \n",
      "...                               ...                      ...  \n",
      "1406                       97998489.0                6859883.0  \n",
      "1407                       24648359.0                1725386.0  \n",
      "1408                       19720085.0                1380398.0  \n",
      "1409                        5916654.0                 414163.0  \n",
      "1410                       56985059.0                3988961.0  \n",
      "\n",
      "[1411 rows x 16 columns]\n"
     ]
    }
   ],
   "source": [
    "print(df)"
   ]
  },
  {
   "cell_type": "code",
   "execution_count": 37,
   "metadata": {
    "executionInfo": {
     "elapsed": 7,
     "status": "ok",
     "timestamp": 1701244938046,
     "user": {
      "displayName": "Rachel Wu",
      "userId": "14056948256822092543"
     },
     "user_tz": 300
    },
    "id": "ffyAeFOyCD9G"
   },
   "outputs": [],
   "source": [
    "# Features\n",
    "from sklearn.model_selection import train_test_split\n",
    "from sklearn.metrics import f1_score\n",
    "# This function is only an example, you need to make it more advanced\n",
    "def feature_engineering(data):\n",
    "    feature_selected = ['WN_Sit_Gas_Int1', 'Average_Household_Income', 'Abbreviated_Postal_code',\n",
    "           'PrimPropTypCalc', 'Average_Age_int']\n",
    "    data_new = data[feature_selected]\n",
    "    data_new = pd.get_dummies(data_new, columns = ['Abbreviated_Postal_code', 'PrimPropTypCalc'])\n",
    "\n",
    "    return data_new\n",
    "\n",
    "\n",
    "df = df[df[\"City\"]== \"Toronto\"]\n",
    "df= df[df[\"WN_Sit_Gas_Int1\"]!= \"Not Available\"]\n",
    "df= df[df[\"GHG_Emiss_Int1\"]!= \"Not Available\"]\n",
    "df= df[df[\"GHG_Emiss_Int1\"]<600]\n",
    "df=df.dropna()\n",
    "X = feature_engineering(df)\n",
    "\n",
    "# Labels\n",
    "y = df[\"WN_Sit_Gas_Int1\"]\n",
    "\n",
    "# Split into train and val\n",
    "X_train, X_val_test, y_train, y_val_test = train_test_split(X, y, train_size=0.8, random_state=42)\n",
    "X_val, X_test, y_val, y_test = train_test_split(X_val_test, y_val_test, test_size=0.5, random_state=42)"
   ]
  },
  {
   "cell_type": "code",
   "execution_count": 38,
   "metadata": {
    "executionInfo": {
     "elapsed": 7,
     "status": "ok",
     "timestamp": 1701244938047,
     "user": {
      "displayName": "Rachel Wu",
      "userId": "14056948256822092543"
     },
     "user_tz": 300
    },
    "id": "JGL8ergfDYnM"
   },
   "outputs": [],
   "source": [
    "from sklearn.ensemble import RandomForestClassifier\n",
    "model = RandomForestClassifier(max_features='sqrt', oob_score=True)"
   ]
  },
  {
   "cell_type": "code",
   "execution_count": 39,
   "metadata": {
    "colab": {
     "base_uri": "https://localhost:8080/",
     "height": 75
    },
    "executionInfo": {
     "elapsed": 624,
     "status": "ok",
     "timestamp": 1701244938665,
     "user": {
      "displayName": "Rachel Wu",
      "userId": "14056948256822092543"
     },
     "user_tz": 300
    },
    "id": "l54kywJ7Dbgy",
    "outputId": "6a89f08e-652e-403d-f4a4-1768ba8de2f2"
   },
   "outputs": [
    {
     "data": {
      "text/html": [
       "<style>#sk-container-id-4 {color: black;background-color: white;}#sk-container-id-4 pre{padding: 0;}#sk-container-id-4 div.sk-toggleable {background-color: white;}#sk-container-id-4 label.sk-toggleable__label {cursor: pointer;display: block;width: 100%;margin-bottom: 0;padding: 0.3em;box-sizing: border-box;text-align: center;}#sk-container-id-4 label.sk-toggleable__label-arrow:before {content: \"▸\";float: left;margin-right: 0.25em;color: #696969;}#sk-container-id-4 label.sk-toggleable__label-arrow:hover:before {color: black;}#sk-container-id-4 div.sk-estimator:hover label.sk-toggleable__label-arrow:before {color: black;}#sk-container-id-4 div.sk-toggleable__content {max-height: 0;max-width: 0;overflow: hidden;text-align: left;background-color: #f0f8ff;}#sk-container-id-4 div.sk-toggleable__content pre {margin: 0.2em;color: black;border-radius: 0.25em;background-color: #f0f8ff;}#sk-container-id-4 input.sk-toggleable__control:checked~div.sk-toggleable__content {max-height: 200px;max-width: 100%;overflow: auto;}#sk-container-id-4 input.sk-toggleable__control:checked~label.sk-toggleable__label-arrow:before {content: \"▾\";}#sk-container-id-4 div.sk-estimator input.sk-toggleable__control:checked~label.sk-toggleable__label {background-color: #d4ebff;}#sk-container-id-4 div.sk-label input.sk-toggleable__control:checked~label.sk-toggleable__label {background-color: #d4ebff;}#sk-container-id-4 input.sk-hidden--visually {border: 0;clip: rect(1px 1px 1px 1px);clip: rect(1px, 1px, 1px, 1px);height: 1px;margin: -1px;overflow: hidden;padding: 0;position: absolute;width: 1px;}#sk-container-id-4 div.sk-estimator {font-family: monospace;background-color: #f0f8ff;border: 1px dotted black;border-radius: 0.25em;box-sizing: border-box;margin-bottom: 0.5em;}#sk-container-id-4 div.sk-estimator:hover {background-color: #d4ebff;}#sk-container-id-4 div.sk-parallel-item::after {content: \"\";width: 100%;border-bottom: 1px solid gray;flex-grow: 1;}#sk-container-id-4 div.sk-label:hover label.sk-toggleable__label {background-color: #d4ebff;}#sk-container-id-4 div.sk-serial::before {content: \"\";position: absolute;border-left: 1px solid gray;box-sizing: border-box;top: 0;bottom: 0;left: 50%;z-index: 0;}#sk-container-id-4 div.sk-serial {display: flex;flex-direction: column;align-items: center;background-color: white;padding-right: 0.2em;padding-left: 0.2em;position: relative;}#sk-container-id-4 div.sk-item {position: relative;z-index: 1;}#sk-container-id-4 div.sk-parallel {display: flex;align-items: stretch;justify-content: center;background-color: white;position: relative;}#sk-container-id-4 div.sk-item::before, #sk-container-id-4 div.sk-parallel-item::before {content: \"\";position: absolute;border-left: 1px solid gray;box-sizing: border-box;top: 0;bottom: 0;left: 50%;z-index: -1;}#sk-container-id-4 div.sk-parallel-item {display: flex;flex-direction: column;z-index: 1;position: relative;background-color: white;}#sk-container-id-4 div.sk-parallel-item:first-child::after {align-self: flex-end;width: 50%;}#sk-container-id-4 div.sk-parallel-item:last-child::after {align-self: flex-start;width: 50%;}#sk-container-id-4 div.sk-parallel-item:only-child::after {width: 0;}#sk-container-id-4 div.sk-dashed-wrapped {border: 1px dashed gray;margin: 0 0.4em 0.5em 0.4em;box-sizing: border-box;padding-bottom: 0.4em;background-color: white;}#sk-container-id-4 div.sk-label label {font-family: monospace;font-weight: bold;display: inline-block;line-height: 1.2em;}#sk-container-id-4 div.sk-label-container {text-align: center;}#sk-container-id-4 div.sk-container {/* jupyter's `normalize.less` sets `[hidden] { display: none; }` but bootstrap.min.css set `[hidden] { display: none !important; }` so we also need the `!important` here to be able to override the default hidden behavior on the sphinx rendered scikit-learn.org. See: https://github.com/scikit-learn/scikit-learn/issues/21755 */display: inline-block !important;position: relative;}#sk-container-id-4 div.sk-text-repr-fallback {display: none;}</style><div id=\"sk-container-id-4\" class=\"sk-top-container\"><div class=\"sk-text-repr-fallback\"><pre>RandomForestClassifier(oob_score=True)</pre><b>In a Jupyter environment, please rerun this cell to show the HTML representation or trust the notebook. <br />On GitHub, the HTML representation is unable to render, please try loading this page with nbviewer.org.</b></div><div class=\"sk-container\" hidden><div class=\"sk-item\"><div class=\"sk-estimator sk-toggleable\"><input class=\"sk-toggleable__control sk-hidden--visually\" id=\"sk-estimator-id-4\" type=\"checkbox\" checked><label for=\"sk-estimator-id-4\" class=\"sk-toggleable__label sk-toggleable__label-arrow\">RandomForestClassifier</label><div class=\"sk-toggleable__content\"><pre>RandomForestClassifier(oob_score=True)</pre></div></div></div></div></div>"
      ],
      "text/plain": [
       "RandomForestClassifier(oob_score=True)"
      ]
     },
     "execution_count": 39,
     "metadata": {},
     "output_type": "execute_result"
    }
   ],
   "source": [
    "model.fit(X_train, y_train)"
   ]
  },
  {
   "cell_type": "code",
   "execution_count": 40,
   "metadata": {
    "executionInfo": {
     "elapsed": 24,
     "status": "ok",
     "timestamp": 1701244938666,
     "user": {
      "displayName": "Rachel Wu",
      "userId": "14056948256822092543"
     },
     "user_tz": 300
    },
    "id": "ToSQlSBUD7YH"
   },
   "outputs": [],
   "source": [
    "y_pred_val = model.predict(X_val)"
   ]
  },
  {
   "cell_type": "code",
   "execution_count": 41,
   "metadata": {
    "colab": {
     "base_uri": "https://localhost:8080/"
    },
    "executionInfo": {
     "elapsed": 24,
     "status": "ok",
     "timestamp": 1701244938667,
     "user": {
      "displayName": "Rachel Wu",
      "userId": "14056948256822092543"
     },
     "user_tz": 300
    },
    "id": "KoQG_YC3D86Y",
    "outputId": "13f85065-0ead-4e51-dd8c-f7dce2f38b0e"
   },
   "outputs": [
    {
     "name": "stdout",
     "output_type": "stream",
     "text": [
      "0.7978723404255319\n",
      "0.5975765140742911\n",
      "OOB Score: 0.8010680907877169\n"
     ]
    }
   ],
   "source": [
    "print(f1_score(y_val, y_pred_val, average=\"micro\"))\n",
    "print(f1_score(y_val, y_pred_val, average=\"macro\"))\n",
    "oob_score = model.oob_score_\n",
    "print(\"OOB Score:\", oob_score)"
   ]
  },
  {
   "cell_type": "code",
   "execution_count": 42,
   "metadata": {
    "executionInfo": {
     "elapsed": 20,
     "status": "ok",
     "timestamp": 1701244938667,
     "user": {
      "displayName": "Rachel Wu",
      "userId": "14056948256822092543"
     },
     "user_tz": 300
    },
    "id": "m7vv76a6E1wo"
   },
   "outputs": [],
   "source": [
    "y_pred_test = model.predict(X_test)"
   ]
  },
  {
   "cell_type": "code",
   "execution_count": 43,
   "metadata": {
    "colab": {
     "base_uri": "https://localhost:8080/"
    },
    "executionInfo": {
     "elapsed": 19,
     "status": "ok",
     "timestamp": 1701244938668,
     "user": {
      "displayName": "Rachel Wu",
      "userId": "14056948256822092543"
     },
     "user_tz": 300
    },
    "id": "gFLsCxkwGH3X",
    "outputId": "59e9b056-d646-4f03-d40b-01ded01cfaeb"
   },
   "outputs": [
    {
     "name": "stdout",
     "output_type": "stream",
     "text": [
      "0.776595744680851\n",
      "0.52268478647789\n",
      "OOB Score: 0.8010680907877169\n"
     ]
    }
   ],
   "source": [
    "print(f1_score(y_test, y_pred_test, average=\"micro\"))\n",
    "print(f1_score(y_test, y_pred_test, average=\"macro\"))\n",
    "oob_score = model.oob_score_\n",
    "print(\"OOB Score:\", oob_score)"
   ]
  }
 ],
 "metadata": {
  "colab": {
   "authorship_tag": "ABX9TyMJwJz8kDigYctjYUggVVP7",
   "provenance": []
  },
  "kernelspec": {
   "display_name": "Python 3",
   "language": "python",
   "name": "python3"
  },
  "language_info": {
   "codemirror_mode": {
    "name": "ipython",
    "version": 3
   },
   "file_extension": ".py",
   "mimetype": "text/x-python",
   "name": "python",
   "nbconvert_exporter": "python",
   "pygments_lexer": "ipython3",
   "version": "3.8.5"
  }
 },
 "nbformat": 4,
 "nbformat_minor": 1
}
